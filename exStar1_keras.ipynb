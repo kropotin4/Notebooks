{
  "nbformat": 4,
  "nbformat_minor": 0,
  "metadata": {
    "colab": {
      "name": "exStar1_keras.ipynb",
      "provenance": [],
      "collapsed_sections": [],
      "mount_file_id": "1aVo4BkkjXkoQVCqoS_PUmfpjlVta-cKw",
      "authorship_tag": "ABX9TyPHTX6w5kDi6jv3UyTYH7S/",
      "include_colab_link": true
    },
    "kernelspec": {
      "name": "python3",
      "display_name": "Python 3"
    },
    "language_info": {
      "name": "python"
    }
  },
  "cells": [
    {
      "cell_type": "markdown",
      "metadata": {
        "id": "view-in-github",
        "colab_type": "text"
      },
      "source": [
        "<a href=\"https://colab.research.google.com/github/kropotin4/Notebooks/blob/master/exStar1_keras.ipynb\" target=\"_parent\"><img src=\"https://colab.research.google.com/assets/colab-badge.svg\" alt=\"Open In Colab\"/></a>"
      ]
    },
    {
      "cell_type": "code",
      "metadata": {
        "id": "NDHGlQ6xMFuX"
      },
      "source": [
        "!pip install tensorflow -q"
      ],
      "execution_count": 135,
      "outputs": []
    },
    {
      "cell_type": "code",
      "metadata": {
        "id": "Z9_67buHMWYr"
      },
      "source": [
        "import os\n",
        "os.environ['TF_CPP_MIN_LOG_LEVEL'] = '2'"
      ],
      "execution_count": 136,
      "outputs": []
    },
    {
      "cell_type": "code",
      "metadata": {
        "id": "mJ4bnsYa4sRW"
      },
      "source": [
        "import pandas as pd\n",
        "import numpy as np\n",
        "import matplotlib.pyplot as plt\n",
        "\n",
        "import tensorflow as tf\n",
        "from tensorflow import keras"
      ],
      "execution_count": 137,
      "outputs": []
    },
    {
      "cell_type": "code",
      "metadata": {
        "id": "lnjmdmt84TqM"
      },
      "source": [
        "#@title ## Параметры Star1 \n",
        "\n",
        "DATA_PATH = \"/content/drive/MyDrive/Colab Notebooks/data/\" #@param {type:\"string\"}\n",
        " \n",
        "N_VAR = 6       #@param {type:\"number\"}"
      ],
      "execution_count": 138,
      "outputs": []
    },
    {
      "cell_type": "code",
      "metadata": {
        "id": "4uFTfs6n4vHL"
      },
      "source": [
        "dtype = np.double\n",
        "\n",
        "path_end = str(N_VAR).zfill(4) + \".csv\"\n",
        "train_features = pd.read_csv(DATA_PATH + \"lab1/train_features_\" + path_end, header=None, squeeze=True, dtype=dtype)\n",
        "train_labels   = pd.read_csv(DATA_PATH + \"lab1/train_labels_\"   + path_end, header=None, squeeze=False, dtype=dtype)\n",
        "test_features  = pd.read_csv(DATA_PATH + \"lab1/test_features_\"  + path_end, header=None, squeeze=True, dtype=dtype)\n",
        "\n",
        "test_labels    = pd.read_csv(DATA_PATH + \"lab1.csv\", header=None, squeeze=True, dtype=dtype)\n",
        "\n",
        "hack_features = pd.read_csv(DATA_PATH + \"hack_features.csv\", header=None, squeeze=True, dtype=dtype)\n",
        "hack_labels   = pd.read_csv(DATA_PATH + \"hack_labels.csv\", header=None, squeeze=False, dtype=dtype)"
      ],
      "execution_count": 139,
      "outputs": []
    },
    {
      "cell_type": "code",
      "metadata": {
        "id": "S2ivtQhLM-L6"
      },
      "source": [
        "from tensorflow.keras.layers import Dense, Dropout, BatchNormalization"
      ],
      "execution_count": 159,
      "outputs": []
    },
    {
      "cell_type": "code",
      "metadata": {
        "id": "eKoAa7Vw2cwt"
      },
      "source": [
        "model = keras.Sequential(name=\"Best\")\n",
        "\n",
        "lrelu = lambda x: keras.activations.relu(x, alpha=0.01)\n",
        "relu = keras.activations.relu\n",
        "sig = keras.activations.sigmoid\n",
        "swish = keras.activations.swish\n",
        "\n",
        "activ_func = swish\n",
        "\n",
        "model.add(tf.keras.Input(shape=(1,)))\n",
        "\n",
        "#model.add(Dense(units=1, activation=activ_func, name=\"Input\"))\n",
        "model.add(Dense(units=18, activation=activ_func, name=\"Hidden1\"))\n",
        "#model.add(Dense(units=18, activation=activ_func, name=\"Hidden2\"))\n",
        "model.add(Dense(units=1, activation='linear', name=\"Output\"))\n",
        "\n",
        "adam = keras.optimizers.Adam(0.1)\n",
        "sgd = keras.optimizers.SGD(learning_rate=0.1, momentum=0.0, nesterov=True)\n",
        "\n",
        "model.compile(loss='mean_squared_error', optimizer=adam)"
      ],
      "execution_count": 173,
      "outputs": []
    },
    {
      "cell_type": "code",
      "metadata": {
        "id": "91TRpc9oJbLW"
      },
      "source": [
        "#print(model.summary())"
      ],
      "execution_count": 142,
      "outputs": []
    },
    {
      "cell_type": "code",
      "metadata": {
        "id": "Z28kmPHEJYpi"
      },
      "source": [
        "log = model.fit(train_features, train_labels, epochs=5000, verbose=False)"
      ],
      "execution_count": 174,
      "outputs": []
    },
    {
      "cell_type": "code",
      "metadata": {
        "colab": {
          "base_uri": "https://localhost:8080/",
          "height": 265
        },
        "id": "k7mxhgGtM4E0",
        "outputId": "fb5a8edc-1610-4ea9-b957-34cc21d0b72d"
      },
      "source": [
        "plt.plot(log.history['loss'])\n",
        "plt.grid(True)\n",
        "plt.show()"
      ],
      "execution_count": 175,
      "outputs": [
        {
          "output_type": "display_data",
          "data": {
            "image/png": "[encoded data removed]",
            "text/plain": [
              "<Figure size 432x288 with 1 Axes>"
            ]
          },
          "metadata": {
            "tags": [],
            "needs_background": "light"
          }
        }
      ]
    },
    {
      "cell_type": "code",
      "metadata": {
        "colab": {
          "base_uri": "https://localhost:8080/"
        },
        "id": "VIWpcxjMNN3N",
        "outputId": "567bfc73-0904-4a29-8378-3bb44343f553"
      },
      "source": [
        "from sklearn.metrics import r2_score\n",
        "\n",
        "print(r2_score(test_labels.to_numpy(), model.predict(test_features)))"
      ],
      "execution_count": 176,
      "outputs": [
        {
          "output_type": "stream",
          "text": [
            "WARNING:tensorflow:11 out of the last 11 calls to <function Model.make_predict_function.<locals>.predict_function at 0x7f27961fee60> triggered tf.function retracing. Tracing is expensive and the excessive number of tracings could be due to (1) creating @tf.function repeatedly in a loop, (2) passing tensors with different shapes, (3) passing Python objects instead of tensors. For (1), please define your @tf.function outside of the loop. For (2), @tf.function has experimental_relax_shapes=True option that relaxes argument shapes that can avoid unnecessary retracing. For (3), please refer to https://www.tensorflow.org/guide/function#controlling_retracing and https://www.tensorflow.org/api_docs/python/tf/function for  more details.\n",
            "0.9159448283462834\n"
          ],
          "name": "stdout"
        }
      ]
    }
  ]
}