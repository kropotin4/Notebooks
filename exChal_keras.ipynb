{
  "nbformat": 4,
  "nbformat_minor": 0,
  "metadata": {
    "colab": {
      "name": "exChal_keras.ipynb",
      "provenance": [],
      "collapsed_sections": [],
      "toc_visible": true,
      "mount_file_id": "1B25pZvEM8k0MeOOoFiVSDrie0Vl3yb8o",
      "authorship_tag": "ABX9TyNoIDdv6W77qkVdm4Pz+GIL",
      "include_colab_link": true
    },
    "kernelspec": {
      "name": "python3",
      "display_name": "Python 3"
    },
    "language_info": {
      "name": "python"
    },
    "widgets": {
      "application/vnd.jupyter.widget-state+json": {
        "158173e6e2b64e8c93be499181e4b341": {
          "model_module": "@jupyter-widgets/controls",
          "model_name": "HBoxModel",
          "state": {
            "_view_name": "HBoxView",
            "_dom_classes": [],
            "_model_name": "HBoxModel",
            "_view_module": "@jupyter-widgets/controls",
            "_model_module_version": "1.5.0",
            "_view_count": null,
            "_view_module_version": "1.5.0",
            "box_style": "",
            "layout": "IPY_MODEL_f8d79df17cd84368a5a10b6f3f12d78b",
            "_model_module": "@jupyter-widgets/controls",
            "children": [
              "IPY_MODEL_b2ca33d903bb43cb8ade728b77391aa3",
              "IPY_MODEL_22f31ada5e5c437f9d47c167cde62dcb"
            ]
          }
        },
        "f8d79df17cd84368a5a10b6f3f12d78b": {
          "model_module": "@jupyter-widgets/base",
          "model_name": "LayoutModel",
          "state": {
            "_view_name": "LayoutView",
            "grid_template_rows": null,
            "right": null,
            "justify_content": null,
            "_view_module": "@jupyter-widgets/base",
            "overflow": null,
            "_model_module_version": "1.2.0",
            "_view_count": null,
            "flex_flow": null,
            "width": null,
            "min_width": null,
            "border": null,
            "align_items": null,
            "bottom": null,
            "_model_module": "@jupyter-widgets/base",
            "top": null,
            "grid_column": null,
            "overflow_y": null,
            "overflow_x": null,
            "grid_auto_flow": null,
            "grid_area": null,
            "grid_template_columns": null,
            "flex": null,
            "_model_name": "LayoutModel",
            "justify_items": null,
            "grid_row": null,
            "max_height": null,
            "align_content": null,
            "visibility": null,
            "align_self": null,
            "height": null,
            "min_height": null,
            "padding": null,
            "grid_auto_rows": null,
            "grid_gap": null,
            "max_width": null,
            "order": null,
            "_view_module_version": "1.2.0",
            "grid_template_areas": null,
            "object_position": null,
            "object_fit": null,
            "grid_auto_columns": null,
            "margin": null,
            "display": null,
            "left": null
          }
        },
        "b2ca33d903bb43cb8ade728b77391aa3": {
          "model_module": "@jupyter-widgets/controls",
          "model_name": "FloatProgressModel",
          "state": {
            "_view_name": "ProgressView",
            "style": "IPY_MODEL_f731066c1fba477ab1b0450620a08059",
            "_dom_classes": [],
            "description": "100%",
            "_model_name": "FloatProgressModel",
            "bar_style": "success",
            "max": 500,
            "_view_module": "@jupyter-widgets/controls",
            "_model_module_version": "1.5.0",
            "value": 500,
            "_view_count": null,
            "_view_module_version": "1.5.0",
            "orientation": "horizontal",
            "min": 0,
            "description_tooltip": null,
            "_model_module": "@jupyter-widgets/controls",
            "layout": "IPY_MODEL_a66b85b982014bc591f8b91806fe98b0"
          }
        },
        "22f31ada5e5c437f9d47c167cde62dcb": {
          "model_module": "@jupyter-widgets/controls",
          "model_name": "HTMLModel",
          "state": {
            "_view_name": "HTMLView",
            "style": "IPY_MODEL_781ac9f70d16442b9b8f2bd9f8547b60",
            "_dom_classes": [],
            "description": "",
            "_model_name": "HTMLModel",
            "placeholder": "​",
            "_view_module": "@jupyter-widgets/controls",
            "_model_module_version": "1.5.0",
            "value": " 500/500 [01:42&lt;00:00,  4.89epoch/s, loss=0.12, accuracy=0.954, val_loss=8.12, val_accuracy=0.281]",
            "_view_count": null,
            "_view_module_version": "1.5.0",
            "description_tooltip": null,
            "_model_module": "@jupyter-widgets/controls",
            "layout": "IPY_MODEL_0faa85df6f36404387047e25433b4e2e"
          }
        },
        "f731066c1fba477ab1b0450620a08059": {
          "model_module": "@jupyter-widgets/controls",
          "model_name": "ProgressStyleModel",
          "state": {
            "_view_name": "StyleView",
            "_model_name": "ProgressStyleModel",
            "description_width": "initial",
            "_view_module": "@jupyter-widgets/base",
            "_model_module_version": "1.5.0",
            "_view_count": null,
            "_view_module_version": "1.2.0",
            "bar_color": null,
            "_model_module": "@jupyter-widgets/controls"
          }
        },
        "a66b85b982014bc591f8b91806fe98b0": {
          "model_module": "@jupyter-widgets/base",
          "model_name": "LayoutModel",
          "state": {
            "_view_name": "LayoutView",
            "grid_template_rows": null,
            "right": null,
            "justify_content": null,
            "_view_module": "@jupyter-widgets/base",
            "overflow": null,
            "_model_module_version": "1.2.0",
            "_view_count": null,
            "flex_flow": null,
            "width": null,
            "min_width": null,
            "border": null,
            "align_items": null,
            "bottom": null,
            "_model_module": "@jupyter-widgets/base",
            "top": null,
            "grid_column": null,
            "overflow_y": null,
            "overflow_x": null,
            "grid_auto_flow": null,
            "grid_area": null,
            "grid_template_columns": null,
            "flex": null,
            "_model_name": "LayoutModel",
            "justify_items": null,
            "grid_row": null,
            "max_height": null,
            "align_content": null,
            "visibility": null,
            "align_self": null,
            "height": null,
            "min_height": null,
            "padding": null,
            "grid_auto_rows": null,
            "grid_gap": null,
            "max_width": null,
            "order": null,
            "_view_module_version": "1.2.0",
            "grid_template_areas": null,
            "object_position": null,
            "object_fit": null,
            "grid_auto_columns": null,
            "margin": null,
            "display": null,
            "left": null
          }
        },
        "781ac9f70d16442b9b8f2bd9f8547b60": {
          "model_module": "@jupyter-widgets/controls",
          "model_name": "DescriptionStyleModel",
          "state": {
            "_view_name": "StyleView",
            "_model_name": "DescriptionStyleModel",
            "description_width": "",
            "_view_module": "@jupyter-widgets/base",
            "_model_module_version": "1.5.0",
            "_view_count": null,
            "_view_module_version": "1.2.0",
            "_model_module": "@jupyter-widgets/controls"
          }
        },
        "0faa85df6f36404387047e25433b4e2e": {
          "model_module": "@jupyter-widgets/base",
          "model_name": "LayoutModel",
          "state": {
            "_view_name": "LayoutView",
            "grid_template_rows": null,
            "right": null,
            "justify_content": null,
            "_view_module": "@jupyter-widgets/base",
            "overflow": null,
            "_model_module_version": "1.2.0",
            "_view_count": null,
            "flex_flow": null,
            "width": null,
            "min_width": null,
            "border": null,
            "align_items": null,
            "bottom": null,
            "_model_module": "@jupyter-widgets/base",
            "top": null,
            "grid_column": null,
            "overflow_y": null,
            "overflow_x": null,
            "grid_auto_flow": null,
            "grid_area": null,
            "grid_template_columns": null,
            "flex": null,
            "_model_name": "LayoutModel",
            "justify_items": null,
            "grid_row": null,
            "max_height": null,
            "align_content": null,
            "visibility": null,
            "align_self": null,
            "height": null,
            "min_height": null,
            "padding": null,
            "grid_auto_rows": null,
            "grid_gap": null,
            "max_width": null,
            "order": null,
            "_view_module_version": "1.2.0",
            "grid_template_areas": null,
            "object_position": null,
            "object_fit": null,
            "grid_auto_columns": null,
            "margin": null,
            "display": null,
            "left": null
          }
        }
      }
    }
  },
  "cells": [
    {
      "cell_type": "markdown",
      "metadata": {
        "id": "view-in-github",
        "colab_type": "text"
      },
      "source": [
        "<a href=\"https://colab.research.google.com/github/kropotin4/Notebooks/blob/master/exChal_keras.ipynb\" target=\"_parent\"><img src=\"https://colab.research.google.com/assets/colab-badge.svg\" alt=\"Open In Colab\"/></a>"
      ]
    },
    {
      "cell_type": "code",
      "metadata": {
        "id": "dhOdIZUeIMpV"
      },
      "source": [
        "!pip install tensorflow -q"
      ],
      "execution_count": 2,
      "outputs": []
    },
    {
      "cell_type": "code",
      "metadata": {
        "id": "yT43ZYGEIYSr"
      },
      "source": [
        "import os\n",
        "os.environ['TF_CPP_MIN_LOG_LEVEL'] = '2'"
      ],
      "execution_count": 3,
      "outputs": []
    },
    {
      "cell_type": "code",
      "metadata": {
        "id": "iiiRiKbSIa1_"
      },
      "source": [
        "import pandas as pd\n",
        "import numpy as np\n",
        "import matplotlib.pyplot as plt\n",
        "\n",
        "import tensorflow as tf\n",
        "from tensorflow import keras"
      ],
      "execution_count": 4,
      "outputs": []
    },
    {
      "cell_type": "markdown",
      "metadata": {
        "id": "avrDCHiLJxkk"
      },
      "source": [
        "# Данные"
      ]
    },
    {
      "cell_type": "code",
      "metadata": {
        "id": "Fu1UVeABIgV2"
      },
      "source": [
        "#@title ## Параметры\n",
        "\n",
        "DATA_PATH = \"/content/drive/MyDrive/Colab Notebooks/data/\" #@param {type:\"string\"}\n",
        "\n",
        "CHAL_NAME = \"challenge2\" #@param {type:\"string\"}"
      ],
      "execution_count": 5,
      "outputs": []
    },
    {
      "cell_type": "code",
      "metadata": {
        "id": "HR8RXgO9IlsL"
      },
      "source": [
        "dtype = np.double\n",
        "\n",
        "chal_prefix = CHAL_NAME + \"/\" + CHAL_NAME\n",
        "# pd.read_excel | xlsx\n",
        "# pd.read_csv   | csv\n",
        "train_features = pd.read_excel(DATA_PATH + chal_prefix + \"_x_train.xlsx\", header=None, dtype=dtype)\n",
        "train_labels   = pd.read_excel(DATA_PATH + chal_prefix + \"_y_train.xlsx\", header=None, dtype=dtype)\n",
        "test_features  = pd.read_excel(DATA_PATH + chal_prefix + \"_x_test.xlsx\", header=None, dtype=dtype)"
      ],
      "execution_count": 6,
      "outputs": []
    },
    {
      "cell_type": "code",
      "metadata": {
        "id": "g-BcUaArlQHc"
      },
      "source": [
        "from sklearn.preprocessing import OneHotEncoder\n",
        "\n",
        "train_labels_oh = OneHotEncoder().fit_transform(train_labels)\n",
        "\n",
        "train_labels = train_labels_oh.toarray()"
      ],
      "execution_count": 7,
      "outputs": []
    },
    {
      "cell_type": "code",
      "metadata": {
        "colab": {
          "base_uri": "https://localhost:8080/"
        },
        "id": "UNpEh6TMXbUv",
        "outputId": "e6a01322-b20e-41ee-8b0a-fa9ce65f9d64"
      },
      "source": [
        "train_labels"
      ],
      "execution_count": 8,
      "outputs": [
        {
          "output_type": "execute_result",
          "data": {
            "text/plain": [
              "array([[0., 0., 0., ..., 0., 0., 0.],\n",
              "       [0., 0., 0., ..., 1., 0., 0.],\n",
              "       [0., 0., 0., ..., 0., 0., 1.],\n",
              "       ...,\n",
              "       [1., 0., 0., ..., 0., 0., 0.],\n",
              "       [0., 0., 0., ..., 0., 0., 0.],\n",
              "       [0., 0., 1., ..., 0., 0., 0.]])"
            ]
          },
          "metadata": {
            "tags": []
          },
          "execution_count": 8
        }
      ]
    },
    {
      "cell_type": "markdown",
      "metadata": {
        "id": "xxNWoU_puC6m"
      },
      "source": [
        "## Автокорреляция"
      ]
    },
    {
      "cell_type": "code",
      "metadata": {
        "id": "cwYpgfTwuSgn"
      },
      "source": [
        "corr_kf = 0.85\n",
        "corr_enable = True"
      ],
      "execution_count": 9,
      "outputs": []
    },
    {
      "cell_type": "code",
      "metadata": {
        "colab": {
          "base_uri": "https://localhost:8080/"
        },
        "id": "qQsrishgnIW5",
        "outputId": "8479b435-5ef7-4755-96c4-133dc70e186e"
      },
      "source": [
        "corr = train_features.corr()\n",
        "col_del = np.zeros(len(corr.columns), dtype=bool)\n",
        "\n",
        "n_del = 0\n",
        "for i in range(0, len(corr.columns)):\n",
        "    if col_del[i] == True:\n",
        "        continue\n",
        "\n",
        "    for g in range(i + 1, len(corr.columns)):\n",
        "        if abs(corr[i][g]) > corr_kf:\n",
        "            col_del[g] = True\n",
        "            n_del += 1\n",
        "\n",
        "col_del_ind = [i for i in range(0, len(col_del)) if col_del[i]]\n",
        "\n",
        "print(\"Del features: \" + str(n_del))"
      ],
      "execution_count": 10,
      "outputs": [
        {
          "output_type": "stream",
          "text": [
            "Del features: 9\n"
          ],
          "name": "stdout"
        }
      ]
    },
    {
      "cell_type": "code",
      "metadata": {
        "id": "XWefJ9SjqZ9E"
      },
      "source": [
        "if corr_enable:\n",
        "    train_features.drop(train_features.columns[col_del_ind],axis=1,inplace=True)\n",
        "    test_features.drop(test_features.columns[col_del_ind],axis=1,inplace=True)"
      ],
      "execution_count": 11,
      "outputs": []
    },
    {
      "cell_type": "markdown",
      "metadata": {
        "id": "IDqgmMsc9InM"
      },
      "source": [
        "## Линейная регрессия"
      ]
    },
    {
      "cell_type": "code",
      "metadata": {
        "id": "NTz5JFV79Thx"
      },
      "source": [
        "lin_weight_min = 0.1\n",
        "lin_enable = 0"
      ],
      "execution_count": 12,
      "outputs": []
    },
    {
      "cell_type": "code",
      "metadata": {
        "id": "4TvVx5za6LWJ"
      },
      "source": [
        "from sklearn import linear_model\n",
        "from sklearn.metrics import r2_score\n",
        "\n",
        "if lin_enable:\n",
        "    lasso = linear_model.Lasso(alpha=1)\n",
        "    el_net = linear_model.ElasticNet(alpha=1)\n",
        "\n",
        "    lin_mod = lasso # el_net lasso\n",
        "\n",
        "    lin_fit = lin_mod.fit(train_features, train_labels)\n",
        "\n",
        "    print(r2_score(train_labels, lin_fit.predict(train_features)))"
      ],
      "execution_count": 13,
      "outputs": []
    },
    {
      "cell_type": "code",
      "metadata": {
        "id": "gqsnfOEBHR4l"
      },
      "source": [
        "if lin_enable:\n",
        "    lin_weight_ind = [i for i in range(0, len(train_features.columns)) \\\n",
        "                        if abs(lin_fit.coef_[i]) < lin_weight_min]\n",
        "\n",
        "    print(lin_weight_ind)"
      ],
      "execution_count": 14,
      "outputs": []
    },
    {
      "cell_type": "code",
      "metadata": {
        "id": "_c1p1_2W7xnU"
      },
      "source": [
        ""
      ],
      "execution_count": 14,
      "outputs": []
    },
    {
      "cell_type": "markdown",
      "metadata": {
        "id": "jdwo4KQU6FBo"
      },
      "source": [
        "## Нормализация"
      ]
    },
    {
      "cell_type": "code",
      "metadata": {
        "id": "dTL31SXkJ-Ra"
      },
      "source": [
        "from sklearn.preprocessing import StandardScaler\n",
        "\n",
        "std_data = StandardScaler().fit(train_features)\n",
        "\n",
        "train_features = std_data.transform(train_features)\n",
        "test_features = std_data.transform(test_features)"
      ],
      "execution_count": 15,
      "outputs": []
    },
    {
      "cell_type": "markdown",
      "metadata": {
        "id": "hEz46g8Jhe6G"
      },
      "source": [
        "## Количество признаков/классов"
      ]
    },
    {
      "cell_type": "code",
      "metadata": {
        "colab": {
          "base_uri": "https://localhost:8080/"
        },
        "id": "HwK1sbIUhhwA",
        "outputId": "b17feea2-7e88-4180-9372-c6d5346c4ea8"
      },
      "source": [
        "n_features = train_features.shape[1]\n",
        "n_class = train_labels.shape[1]\n",
        "\n",
        "print(\"Number of objects: \" + str(train_features.shape[0]))\n",
        "print(\"Number of features: \" + str(n_features))\n",
        "print(\"Number of class: \" + str(n_class))"
      ],
      "execution_count": 16,
      "outputs": [
        {
          "output_type": "stream",
          "text": [
            "Number of objects: 2416\n",
            "Number of features: 20\n",
            "Number of class: 13\n"
          ],
          "name": "stdout"
        }
      ]
    },
    {
      "cell_type": "markdown",
      "metadata": {
        "id": "8ntEuEgcJ2Nk"
      },
      "source": [
        "# Модель"
      ]
    },
    {
      "cell_type": "markdown",
      "metadata": {
        "id": "ABgPE0dPno3e"
      },
      "source": [
        "## Функции"
      ]
    },
    {
      "cell_type": "code",
      "metadata": {
        "id": "baZg5bhQ4yB5"
      },
      "source": [
        "def to_onehot(data):\n",
        "    oh = [data[i].argmax() for i in range(0, len(data))]\n",
        "    oh = np.array(oh).reshape(-1, 1)\n",
        "    oh = OneHotEncoder().fit_transform(oh)\n",
        "    return oh"
      ],
      "execution_count": null,
      "outputs": []
    },
    {
      "cell_type": "code",
      "metadata": {
        "id": "TOUpUP7EJLMF"
      },
      "source": [
        "def reset_weights(model):\n",
        "  for layer in model.layers: \n",
        "    if isinstance(layer, tf.keras.Model):\n",
        "      reset_weights(layer)\n",
        "      continue\n",
        "    for k, initializer in layer.__dict__.items():\n",
        "      if \"initializer\" not in k:\n",
        "        continue\n",
        "      # find the corresponding variable\n",
        "      var = getattr(layer, k.replace(\"_initializer\", \"\"))\n",
        "      var.assign(initializer(var.shape, var.dtype))"
      ],
      "execution_count": 17,
      "outputs": []
    },
    {
      "cell_type": "code",
      "metadata": {
        "id": "Dmj5h3zvLpRq"
      },
      "source": [
        "from tqdm.keras import TqdmCallback\n",
        "from IPython.display import clear_output\n",
        "\n",
        "def fit_nn(model, \n",
        "           n_rounds: int,\n",
        "           target=None, \n",
        "           verbose=True):\n",
        "    success = 0\n",
        "    wb_list = []\n",
        "\n",
        "    for t in range(n_rounds):\n",
        "        if not verbose:\n",
        "            print(str(t) + \"/\" + str(n_rounds))\n",
        "            \n",
        "        try:\n",
        "            reset_weights(model)\n",
        "\n",
        "            model.fit(train_features, train_labels, \\\n",
        "                        epochs=500, validation_split=0.1, batch_size=32, \\\n",
        "                        verbose=0, callbacks=[TqdmCallback(verbose=0)])\n",
        "            \n",
        "        except Exception as e:\n",
        "            if verbose:\n",
        "                print(str(t) + \": fail; \" + str(e))\n",
        "        else:\n",
        "            success += 1\n",
        "            r2 = r2_score(train_labels, model.predict(train_features))\n",
        "            wb_list.append({'score': r2, 'wb': model.get_weights()})\n",
        "            if verbose:\n",
        "                print(str(t) + \": success (\" + str(r2) + \")\")\n",
        "            if (target != None):\n",
        "                if (r2 >= target):\n",
        "                    break\n",
        "\n",
        "        finally:\n",
        "            if not verbose:\n",
        "                clear_output(wait=True)\n",
        "    \n",
        "    print(\"Succes ratio: \" + str(success / n_rounds))\n",
        "    return wb_list"
      ],
      "execution_count": 18,
      "outputs": []
    },
    {
      "cell_type": "markdown",
      "metadata": {
        "id": "4yfpXggGnuJ1"
      },
      "source": [
        "## Немного эвристики"
      ]
    },
    {
      "cell_type": "code",
      "metadata": {
        "colab": {
          "base_uri": "https://localhost:8080/"
        },
        "id": "oewmydEhWXyw",
        "outputId": "0cfe432b-20cf-4a08-b9f7-102c22123782"
      },
      "source": [
        "alfa = 2\n",
        "Nh = len(train_features) / (alfa * (n_features + n_class))\n",
        "print(\"Layers number: \" + str(Nh))"
      ],
      "execution_count": 19,
      "outputs": [
        {
          "output_type": "stream",
          "text": [
            "Layers number: 36.60606060606061\n"
          ],
          "name": "stdout"
        }
      ]
    },
    {
      "cell_type": "code",
      "metadata": {
        "colab": {
          "base_uri": "https://localhost:8080/"
        },
        "id": "dZD_-CdjNV-m",
        "outputId": "dd46ac73-7d52-4637-9914-e0b7c317f7ad"
      },
      "source": [
        "import math\n",
        "m = n_class\n",
        "n_object = len(train_features)\n",
        "hid_nodes1 = math.sqrt((m + 2)*n_object) + 2*math.sqrt(n_object / (m + 2))\n",
        "hid_nodes2 = m*math.sqrt(n_object / (m + 2))\n",
        "\n",
        "print(\"First layer:\" + str(math.ceil(hid_nodes1)))\n",
        "print(\"Second layer:\" + str(math.ceil(hid_nodes2)))"
      ],
      "execution_count": 20,
      "outputs": [
        {
          "output_type": "stream",
          "text": [
            "First layer:216\n",
            "Second layer:165\n"
          ],
          "name": "stdout"
        }
      ]
    },
    {
      "cell_type": "markdown",
      "metadata": {
        "id": "phR5J_uqnzCA"
      },
      "source": [
        "## Модель"
      ]
    },
    {
      "cell_type": "code",
      "metadata": {
        "id": "godd8ik7J8Ze"
      },
      "source": [
        "from tensorflow.keras.layers import Dense, Dropout, BatchNormalization\n",
        "\n",
        "model = keras.Sequential(name=\"Best\")\n",
        "\n",
        "lrelu = lambda x: keras.activations.relu(x, alpha=0.01)\n",
        "relu = keras.activations.relu\n",
        "sig = keras.activations.sigmoid\n",
        "swish = keras.activations.swish\n",
        "\n",
        "activ_func = lrelu\n",
        "\n",
        "model.add(tf.keras.Input(shape=(n_features,)))\n",
        "\n",
        "model.add(Dense(units=n_features, activation=activ_func, name=\"Input\"))\n",
        "\n",
        "model.add(Dense(units=220, activation=activ_func, name=\"Hidden1\"))\n",
        "#model.add(BatchNormalization())\n",
        "model.add(Dense(units=180, activation=activ_func, name=\"Hidden2\"))\n",
        "#model.add(BatchNormalization())\n",
        "#model.add(Dense(units=32, activation=activ_func, name=\"Hidden3\"))\n",
        "#model.add(BatchNormalization())\n",
        "#model.add(Dense(units=32, activation=activ_func, name=\"Hidden4\"))\n",
        "#model.add(BatchNormalization())\n",
        "#model.add(Dense(units=32, activation=activ_func, name=\"Hidden5\"))\n",
        "#model.add(BatchNormalization())\n",
        "#model.add(Dense(units=32, activation=activ_func, name=\"Hidden6\"))\n",
        "#model.add(BatchNormalization())\n",
        "model.add(Dense(units=n_class, activation='softmax', name=\"Output\"))\n",
        "\n",
        "adam = keras.optimizers.Adam(learning_rate=0.001)\n",
        "nadam = keras.optimizers.Nadam(learning_rate=0.001)\n",
        "adadelta = keras.optimizers.Adadelta(learning_rate=0.001)\n",
        "adagrad = keras.optimizers.Adagrad(learning_rate=0.1)\n",
        "rms = keras.optimizers.RMSprop(learning_rate=0.0001)\n",
        "sgd = keras.optimizers.SGD(learning_rate=0.01, momentum=0.0, nesterov=True)\n",
        "\n",
        "# mean_absolute_error\n",
        "# mean_squared_error\n",
        "# mean_squared_logarithmic_error \n",
        "# cosine_similarity\n",
        "huber = keras.losses.Huber(delta=0.8, reduction=\"auto\", name=\"huber_loss\")\n",
        "# log_cosh \n",
        "# categorical_crossentropy\n",
        "# sparse_categorical_crossentropy\n",
        "\n",
        "model.compile(loss='categorical_crossentropy', optimizer=adam, metrics='accuracy')"
      ],
      "execution_count": 79,
      "outputs": []
    },
    {
      "cell_type": "code",
      "metadata": {
        "id": "usXIcnHyMYHv"
      },
      "source": [
        "#print(model.summary())"
      ],
      "execution_count": 22,
      "outputs": []
    },
    {
      "cell_type": "code",
      "metadata": {
        "id": "7h8ziY_dMfe1",
        "colab": {
          "base_uri": "https://localhost:8080/",
          "height": 94,
          "referenced_widgets": [
            "158173e6e2b64e8c93be499181e4b341",
            "f8d79df17cd84368a5a10b6f3f12d78b",
            "b2ca33d903bb43cb8ade728b77391aa3",
            "22f31ada5e5c437f9d47c167cde62dcb",
            "f731066c1fba477ab1b0450620a08059",
            "a66b85b982014bc591f8b91806fe98b0",
            "781ac9f70d16442b9b8f2bd9f8547b60",
            "0faa85df6f36404387047e25433b4e2e"
          ]
        },
        "outputId": "f86c96ca-6f73-4bed-d488-9440fea047b7"
      },
      "source": [
        "from tqdm.keras import TqdmCallback\n",
        "\n",
        "log = model.fit(train_features, train_labels, \\\n",
        "                epochs=500, validation_split=0.05, batch_size=32, \\\n",
        "                verbose=0, callbacks=[TqdmCallback(verbose=0)])"
      ],
      "execution_count": 80,
      "outputs": [
        {
          "output_type": "display_data",
          "data": {
            "application/vnd.jupyter.widget-view+json": {
              "model_id": "158173e6e2b64e8c93be499181e4b341",
              "version_minor": 0,
              "version_major": 2
            },
            "text/plain": [
              "HBox(children=(FloatProgress(value=1.0, bar_style='info', max=1.0), HTML(value='')))"
            ]
          },
          "metadata": {
            "tags": []
          }
        },
        {
          "output_type": "stream",
          "text": [
            "\n"
          ],
          "name": "stdout"
        }
      ]
    },
    {
      "cell_type": "code",
      "metadata": {
        "id": "XlROw2EqJSXP"
      },
      "source": [
        "#wb_list = fit_nn(model=model, n_rounds=30, verbose=False)"
      ],
      "execution_count": 24,
      "outputs": []
    },
    {
      "cell_type": "code",
      "metadata": {
        "id": "j6ftXHOCNUDi"
      },
      "source": [
        "#wb_list.sort(reverse=True, key=lambda d: d['score'])\n",
        "#wb_plot = [d['score'] for d in wb_list]\n",
        "#plt.plot(wb_plot)"
      ],
      "execution_count": 25,
      "outputs": []
    },
    {
      "cell_type": "code",
      "metadata": {
        "id": "8SVWq2KQSrgK"
      },
      "source": [
        "#model.set_weights(wb_list[0]['wb'])"
      ],
      "execution_count": 26,
      "outputs": []
    },
    {
      "cell_type": "markdown",
      "metadata": {
        "id": "WjMoUs2ILF1N"
      },
      "source": [
        "# Сохранение результата"
      ]
    },
    {
      "cell_type": "code",
      "metadata": {
        "id": "8sCDR1R2LcJe"
      },
      "source": [
        "#test_predict = np.round(model.predict(test_features), -1)\n",
        "\n",
        "test_predict = model.predict(test_features)\n",
        "test_predict = [test_predict[i].argmax() for i in range(0, len(test_predict))]\n",
        "test_predict = pd.Series(test_predict)"
      ],
      "execution_count": 85,
      "outputs": []
    },
    {
      "cell_type": "code",
      "metadata": {
        "id": "8SF54GCjK8qT"
      },
      "source": [
        "pd.Series(test_predict).to_csv(DATA_PATH + \"lab2_challenge.csv\", header=None, index=False)"
      ],
      "execution_count": 88,
      "outputs": []
    },
    {
      "cell_type": "markdown",
      "metadata": {
        "id": "Xc80Y45wLCHr"
      },
      "source": [
        "# Резльтаты"
      ]
    },
    {
      "cell_type": "code",
      "metadata": {
        "id": "nftbyLLYpnv8"
      },
      "source": [
        "predict = model.predict(train_features)\n",
        "\n",
        "predict_oh = [predict[i].argmax() for i in range(0, len(predict))]\n",
        "predict_oh = np.array(predict_oh).reshape(-1, 1)\n",
        "predict_oh = OneHotEncoder().fit_transform(predict_oh)"
      ],
      "execution_count": 81,
      "outputs": []
    },
    {
      "cell_type": "code",
      "metadata": {
        "colab": {
          "base_uri": "https://localhost:8080/"
        },
        "id": "_W3g_YrOLANd",
        "outputId": "0d51103f-e664-4ef1-9ca7-ca3df7a3cc81"
      },
      "source": [
        "from sklearn.metrics import r2_score, accuracy_score\n",
        "\n",
        "#print(r2_score(train_labels, predict))\n",
        "print(accuracy_score(train_labels, predict_oh))"
      ],
      "execution_count": 82,
      "outputs": [
        {
          "output_type": "stream",
          "text": [
            "0.9350165562913907\n"
          ],
          "name": "stdout"
        }
      ]
    },
    {
      "cell_type": "code",
      "metadata": {
        "id": "iqf04RxwM48e",
        "colab": {
          "base_uri": "https://localhost:8080/",
          "height": 265
        },
        "outputId": "ca4e0d8e-429b-4397-a699-841ddbe5392e"
      },
      "source": [
        "plt.plot(log.history['accuracy'])\n",
        "plt.grid(True)\n",
        "plt.show()"
      ],
      "execution_count": 83,
      "outputs": [
        {
          "output_type": "display_data",
          "data": {
            "image/png": "[encoded data removed]",
            "text/plain": [
              "<Figure size 432x288 with 1 Axes>"
            ]
          },
          "metadata": {
            "tags": [],
            "needs_background": "light"
          }
        }
      ]
    }
  ]
}