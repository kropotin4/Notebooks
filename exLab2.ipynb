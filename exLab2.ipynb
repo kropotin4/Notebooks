{
  "nbformat": 4,
  "nbformat_minor": 0,
  "metadata": {
    "colab": {
      "name": "exLab2.ipynb",
      "provenance": [],
      "mount_file_id": "1mdoN12_0Cty_OoE9ZZ7xtTl-u9tg5yE0",
      "authorship_tag": "ABX9TyP3/7bcPS6PgLukvcySWfA5",
      "include_colab_link": true
    },
    "kernelspec": {
      "name": "python3",
      "display_name": "Python 3"
    },
    "language_info": {
      "name": "python"
    }
  },
  "cells": [
    {
      "cell_type": "markdown",
      "metadata": {
        "id": "view-in-github",
        "colab_type": "text"
      },
      "source": [
        "<a href=\"https://colab.research.google.com/github/kropotin4/Notebooks/blob/master/exLab2.ipynb\" target=\"_parent\"><img src=\"https://colab.research.google.com/assets/colab-badge.svg\" alt=\"Open In Colab\"/></a>"
      ]
    },
    {
      "cell_type": "code",
      "metadata": {
        "id": "oMJWrj3OJ59I"
      },
      "source": [
        "import numpy as np\n",
        "import pandas as pd\n",
        "import random\n",
        "from numba import njit, jit\n",
        "from sklearn.utils import shuffle\n",
        "from sklearn.metrics import mean_squared_error\n",
        "\n",
        "import matplotlib as mpl\n",
        "import matplotlib.pyplot as plt\n",
        "import seaborn as sns\n",
        "import warnings; warnings.filterwarnings(action='once')"
      ],
      "execution_count": 64,
      "outputs": []
    },
    {
      "cell_type": "code",
      "metadata": {
        "id": "jAdC1_DJKFw3"
      },
      "source": [
        "DATA_PATH = \"/content/drive/MyDrive/Colab Notebooks/data/\"\n",
        " \n",
        "N_VAR = 9"
      ],
      "execution_count": 65,
      "outputs": []
    },
    {
      "cell_type": "code",
      "metadata": {
        "id": "l5xO_iw1KHm0"
      },
      "source": [
        "MAX_STEP = 2000\n",
        "REDUCE_E = 1.999\n",
        "TARGET_E = 0.01\n",
        "\n",
        "BOOST = 0.1\n",
        "TRAIN_PR = 0.9"
      ],
      "execution_count": 66,
      "outputs": []
    },
    {
      "cell_type": "code",
      "metadata": {
        "id": "3ZeA5VFUKKYU"
      },
      "source": [
        "path_end = str(N_VAR).zfill(4) + \".csv\"\n",
        "train_features = pd.read_csv(DATA_PATH + \"lab2/train_features_\" + path_end, header=None, squeeze=False)\n",
        "train_labels   = pd.read_csv(DATA_PATH + \"lab2/train_labels_\"   + path_end, header=None, squeeze=True)\n",
        "test_features  = pd.read_csv(DATA_PATH + \"lab2/test_features_\"  + path_end, header=None, squeeze=False)"
      ],
      "execution_count": 67,
      "outputs": []
    },
    {
      "cell_type": "code",
      "metadata": {
        "id": "lPkEVJd0KOzP"
      },
      "source": [
        "@njit\n",
        "def h(x):\n",
        "    return 1.0 /(1.0 + np.exp(-x)) # sigmoid\n",
        "\n",
        "@njit\n",
        "def grad_h(x):\n",
        "    return x * (1 - x) # sigmoid\n",
        "\n",
        "@njit\n",
        "def E(labels, features, teta):\n",
        "    res = np.zeros(shape=(3))\n",
        "    cur_val = h(np.dot(features, teta))\n",
        "    for i in range(0, len(features)):\n",
        "        res += (cur_val[i] - labels[i])**2\n",
        "\n",
        "    res /= features.size\n",
        "    return res\n",
        "\n",
        "@njit\n",
        "def E_derivative(labels, features, teta, ind):\n",
        "    res = np.zeros(shape=(3))\n",
        "    cur_val = h(np.dot(features, teta))\n",
        "    grad = grad_h(cur_val)\n",
        "    for i in range(0, len(features)):\n",
        "        res += (cur_val[i] - labels[i]) * features[i, ind] * grad[i]\n",
        "\n",
        "    res /= features.size\n",
        "    return res\n",
        "\n",
        "@njit\n",
        "def predict(features, teta):\n",
        "    pred = h(np.dot(features, teta))\n",
        "    res = np.zeros(shape=(len(features)))\n",
        "    for i in range(len(features)):\n",
        "        res[i] = pred[i].argmax()\n",
        "    return res\n",
        "\n",
        "##@njit\n",
        "def accurancy(true_labels, pred_labels):\n",
        "    eq = 0\n",
        "    for i in range(len(true_labels)):\n",
        "        eq += true_labels[i] == pred_labels[i]\n",
        "    return eq / len(true_labels)"
      ],
      "execution_count": 68,
      "outputs": []
    },
    {
      "cell_type": "code",
      "metadata": {
        "id": "EoWC4nahNgDc"
      },
      "source": [
        "def diag_correlation(df):\n",
        "    # Plot\n",
        "    plt.figure(figsize=(12, 10), dpi=80)\n",
        "    sns.heatmap(df.corr(), xticklabels=df.corr().columns, yticklabels=df.corr().columns, cmap='RdYlGn', center=0,\n",
        "                annot=True)\n",
        "\n",
        "    # Decorations\n",
        "    plt.title('Correlogram of features', fontsize=22)\n",
        "    plt.xticks(fontsize=12)\n",
        "    plt.yticks(fontsize=12)\n",
        "    plt.show()\n",
        "\n",
        "def plot_pair(df):\n",
        "    # Plot\n",
        "    plt.figure(figsize=(10, 8), dpi=80)\n",
        "    sns.pairplot(df, kind=\"reg\")\n",
        "    plt.show()\n",
        "\n",
        "def bars_divirging(df, col1, col2):\n",
        "    x = df.loc[:, [col1]]\n",
        "\n",
        "    col_new = str(col1) + str(\"_mean\")\n",
        "\n",
        "    df[col_new] = (x - x.mean()) / x.std()\n",
        "    df['colors'] = ['red' if x < 0 else 'green' for x in df[col_new]]\n",
        "    df.sort_values(col_new, inplace=True)\n",
        "    df.reset_index(inplace=True)\n",
        "\n",
        "    # Draw plot\n",
        "    plt.figure(figsize=(14, 10), dpi=80)\n",
        "    plt.hlines(y=df.index, xmin=0, xmax=df[col_new], color=df.colors, alpha=0.4, linewidth=5)\n",
        "\n",
        "    # Decorations\n",
        "    plt.gca().set(ylabel=col2, xlabel='$Mileage$')\n",
        "    plt.yticks(df.index, df.c3, fontsize=12)\n",
        "    plt.title('Diverging Bars', fontdict={'size': 20})\n",
        "    plt.grid(linestyle='--', alpha=0.5)\n",
        "    plt.show()"
      ],
      "execution_count": 69,
      "outputs": []
    },
    {
      "cell_type": "code",
      "metadata": {
        "id": "h4gPJjPqKUaY"
      },
      "source": [
        "def encoding_1tok(labels):\n",
        "    n_class = int(np.max(labels) - np.min(labels) + 1)\n",
        "    labels_n = np.zeros(shape=(len(labels), n_class))\n",
        "    for i in range(len(labels)):\n",
        "        labels_n[i][int(labels[i])] = 1\n",
        "    return n_class, labels_n\n",
        "\n",
        "def encoding_kto1(labels):\n",
        "    res = np.zeros(shape=(len(labels)))\n",
        "    for i in range(len(labels)):\n",
        "        res[i] = labels[i].argmax()\n",
        "    return res"
      ],
      "execution_count": 70,
      "outputs": []
    },
    {
      "cell_type": "code",
      "metadata": {
        "id": "8TPAmMIfNTcM"
      },
      "source": [
        "train_features.columns = ['c'+str(i) for i in range(len(train_features.columns))]\n",
        "test_features.columns = ['c'+str(i) for i in range(len(test_features.columns))]"
      ],
      "execution_count": 71,
      "outputs": []
    },
    {
      "cell_type": "code",
      "metadata": {
        "id": "1_y5kOaNOfjo"
      },
      "source": [
        "#train_features_diag = train_features\n",
        "#train_features_diag['lab'] = train_labels\n",
        "\n",
        "#diag_correlation(train_features)"
      ],
      "execution_count": 72,
      "outputs": []
    },
    {
      "cell_type": "code",
      "metadata": {
        "id": "rbaksUOOLmFs"
      },
      "source": [
        "del train_features['c1']\n",
        "del train_features['c5']\n",
        "del train_features['c7']\n",
        "del test_features['c1']\n",
        "del test_features['c5']\n",
        "del test_features['c7']\n",
        "\n",
        "\n",
        "#diag_correlation(train_features)\n",
        "#plot_pair(train_features)\n",
        "#bars_divirging(train_features, 'c1', 'c3')"
      ],
      "execution_count": 73,
      "outputs": []
    },
    {
      "cell_type": "code",
      "metadata": {
        "colab": {
          "base_uri": "https://localhost:8080/"
        },
        "id": "VK101LWxLuro",
        "outputId": "ad3b2437-04cd-493d-d36e-31f292c11267"
      },
      "source": [
        "train_labels"
      ],
      "execution_count": 74,
      "outputs": [
        {
          "output_type": "execute_result",
          "data": {
            "text/plain": [
              "0      0.0\n",
              "1      0.0\n",
              "2      2.0\n",
              "3      2.0\n",
              "4      1.0\n",
              "      ... \n",
              "695    2.0\n",
              "696    0.0\n",
              "697    2.0\n",
              "698    2.0\n",
              "699    2.0\n",
              "Name: 0, Length: 700, dtype: float64"
            ]
          },
          "metadata": {
            "tags": []
          },
          "execution_count": 74
        }
      ]
    },
    {
      "cell_type": "code",
      "metadata": {
        "colab": {
          "base_uri": "https://localhost:8080/"
        },
        "id": "oGSeA-XcJnG8",
        "outputId": "4ffd92de-b5ce-4bb2-b865-88b902b92242"
      },
      "source": [
        "\n",
        "#exit(0)\n",
        "\n",
        "# Shuffle\n",
        "\n",
        "train_features, train_labels = shuffle(train_features, train_labels)\n",
        "\n",
        "train_features.reset_index(inplace=True, drop=True)\n",
        "train_labels.reset_index(inplace=True, drop=True)\n",
        "\n",
        "#\n",
        "\n",
        "n_class, labels_k = encoding_1tok(train_labels)\n",
        "\n",
        "# Split train_features/train_labels to 2 part (first - train, second - check)\n",
        "\n",
        "train_part = int(len(train_features.index) * TRAIN_PR)\n",
        "\n",
        "train_features1 = train_features[0:train_part]\n",
        "train_features2 = train_features[train_part:]\n",
        "train_features2.reset_index(inplace=True, drop=True) # Reset index for fack pandas.Series\n",
        "\n",
        "train_labels1 = labels_k[0:train_part]\n",
        "train_labels2 = labels_k[train_part:]\n",
        "#train_labels2.reset_index(inplace=True, drop=True)\n",
        "\n",
        "# NP-version for @jit\n",
        "\n",
        "train_features_np = train_features.to_numpy()\n",
        "train_features1_np = train_features1.to_numpy()\n",
        "train_features2_np = train_features2.to_numpy()\n",
        "\n",
        "train_labels_np = labels_k #train_labels.to_numpy()\n",
        "train_labels1_np = train_labels1 #.to_numpy()\n",
        "train_labels2_np = train_labels2 #.to_numpy()\n",
        "\n",
        "test_features_np = test_features.to_numpy()\n",
        "\n",
        "#\n",
        "\n",
        "n_step = 0\n",
        "#teta = np.array([np.float64(random.randint(-10, 10)) for i in range(0, len(train_features.columns))])\n",
        "teta = np.random.rand(len(train_features.columns), n_class)\n",
        "\n",
        "print(\"Begin (random) E(teta): \" + str(E(train_labels1_np, train_features1_np, teta)))\n",
        "print(\"teta: \" + str(teta))\n",
        "print()\n",
        "\n",
        "mse_list = []\n",
        "acc_list = []\n",
        "E1 = 0\n",
        "E2 = E(train_labels1_np, train_features1_np, teta) * 2\n",
        "while (True):\n",
        "    pred = predict(train_features_np, teta)\n",
        "    #mse_list.append(mean_squared_error(pred, train_labels_np))\n",
        "    acc_list.append(accurancy(pred, train_labels))\n",
        "    E1 = E(train_labels1_np, train_features1_np, teta)\n",
        "\n",
        "    if ((E1 / E2).all() >= REDUCE_E):\n",
        "        print(\"Loop exit: small reduce\")\n",
        "        break\n",
        "\n",
        "    if (E1.all() <= TARGET_E):\n",
        "        print(\"Loop exit: achieved target E = \" + str(TARGET_E))\n",
        "        break\n",
        "\n",
        "    if (n_step >= MAX_STEP):\n",
        "        print(\"Loop exit: step number >= MAX_STEP = \" + str(MAX_STEP))\n",
        "        break\n",
        "\n",
        "    teta = teta - [BOOST*E_derivative(train_labels1_np, train_features1_np, teta, i)\n",
        "                    for i in range(0, len(train_features.columns))]\n",
        "    n_step += 1\n",
        "    #if (n_step % 30 == 0):\n",
        "    #    print(str(E1))\n",
        "\n",
        "    E2 = E1\n",
        "\n",
        "\n",
        "print(\"End (train part) Acc(teta): \" + str(accurancy(predict(train_features1_np, teta), encoding_kto1(train_labels1_np))))\n",
        "print(\"End (check part) Acc(teta): \" + str(accurancy(predict(train_features2_np, teta), encoding_kto1(train_labels2_np))))\n",
        "print(\"End (  all part) Acc(teta): \" + str(accurancy(predict(train_features_np, teta), encoding_kto1(train_labels_np))))\n",
        "print()\n",
        "print(\"Step number: \" + str(n_step))"
      ],
      "execution_count": 75,
      "outputs": [
        {
          "output_type": "stream",
          "text": [
            "<ipython-input-68-a93ba4d151a7>:12: NumbaPerformanceWarning: np.dot() is faster on contiguous arrays, called on (array(float64, 2d, A), array(float64, 2d, C))\n",
            "  cur_val = h(np.dot(features, teta))\n"
          ],
          "name": "stderr"
        },
        {
          "output_type": "stream",
          "text": [
            "Begin (random) E(teta): [0.09109169 0.06890053 0.03808904]\n",
            "teta: [[0.53708005 0.31499252 0.56776269]\n",
            " [0.60185878 0.58937306 0.96840977]\n",
            " [0.58273475 0.4842955  0.43775415]\n",
            " [0.687013   0.67586812 0.06094182]\n",
            " [0.06764168 0.81707113 0.2558069 ]]\n",
            "\n"
          ],
          "name": "stdout"
        },
        {
          "output_type": "stream",
          "text": [
            "<ipython-input-68-a93ba4d151a7>:22: NumbaPerformanceWarning: np.dot() is faster on contiguous arrays, called on (array(float64, 2d, A), array(float64, 2d, C))\n",
            "  cur_val = h(np.dot(features, teta))\n"
          ],
          "name": "stderr"
        },
        {
          "output_type": "stream",
          "text": [
            "Loop exit: step number >= MAX_STEP = 2000\n"
          ],
          "name": "stdout"
        },
        {
          "output_type": "stream",
          "text": [
            "<ipython-input-68-a93ba4d151a7>:32: NumbaPerformanceWarning: np.dot() is faster on contiguous arrays, called on (array(float64, 2d, A), array(float64, 2d, C))\n",
            "  pred = h(np.dot(features, teta))\n"
          ],
          "name": "stderr"
        },
        {
          "output_type": "stream",
          "text": [
            "End (train part) Acc(teta): 0.6206349206349207\n",
            "End (check part) Acc(teta): 0.5428571428571428\n",
            "End (  all part) Acc(teta): 0.6128571428571429\n",
            "\n",
            "Step number: 2000\n"
          ],
          "name": "stdout"
        }
      ]
    },
    {
      "cell_type": "code",
      "metadata": {
        "id": "C3ZEoMbOf454"
      },
      "source": [
        "pd.DataFrame(predict(test_features_np, teta)).to_csv(DATA_PATH + \"lab2.csv\", index=False)"
      ],
      "execution_count": 76,
      "outputs": []
    },
    {
      "cell_type": "code",
      "metadata": {
        "id": "xBMAbVgzLGcZ",
        "colab": {
          "base_uri": "https://localhost:8080/",
          "height": 265
        },
        "outputId": "477acdd6-fdcf-4eb4-ee55-5725d463e954"
      },
      "source": [
        "#fig1, ax1 = plt.subplots()\n",
        "fig2, ax2 = plt.subplots()\n",
        "\n",
        "#ax1.plot(mse_list)\n",
        "ax2.plot(acc_list)\n",
        "\n",
        "plt.show()"
      ],
      "execution_count": 77,
      "outputs": [
        {
          "output_type": "display_data",
          "data": {
            "image/png": "[encoded data removed]",
            "text/plain": [
              "<Figure size 432x288 with 1 Axes>"
            ]
          },
          "metadata": {
            "tags": [],
            "needs_background": "light"
          }
        }
      ]
    }
  ]
}