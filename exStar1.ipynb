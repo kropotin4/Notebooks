{
  "nbformat": 4,
  "nbformat_minor": 0,
  "metadata": {
    "colab": {
      "name": "exStar1.ipynb",
      "provenance": [],
      "mount_file_id": "1hRg7gNkGYd8nJ6TRtVxVGPHIar3Kw2U9",
      "authorship_tag": "ABX9TyM9tUrHJbwpWiFJ4ACO3wlz",
      "include_colab_link": true
    },
    "kernelspec": {
      "name": "python3",
      "display_name": "Python 3"
    },
    "language_info": {
      "name": "python"
    }
  },
  "cells": [
    {
      "cell_type": "markdown",
      "metadata": {
        "id": "view-in-github",
        "colab_type": "text"
      },
      "source": [
        "<a href=\"https://colab.research.google.com/github/kropotin4/Notebooks/blob/master/exStar1.ipynb\" target=\"_parent\"><img src=\"https://colab.research.google.com/assets/colab-badge.svg\" alt=\"Open In Colab\"/></a>"
      ]
    },
    {
      "cell_type": "code",
      "metadata": {
        "id": "XovYiCTRVnSI"
      },
      "source": [
        "!pip install kora -q\n",
        "from kora import drive\n",
        "drive.link_nbs()\n",
        "\n",
        "# Import NeuralNet from another notebook \n",
        "from NeuralNet import FFSNNetwork"
      ],
      "execution_count": 41,
      "outputs": []
    },
    {
      "cell_type": "code",
      "metadata": {
        "id": "80DNVQ_lRjva"
      },
      "source": [
        "import pandas as pd\n",
        "import numpy as np\n",
        "from sklearn.model_selection import train_test_split\n",
        "from sklearn.utils import shuffle\n",
        "from sklearn.metrics import r2_score"
      ],
      "execution_count": 42,
      "outputs": []
    },
    {
      "cell_type": "code",
      "metadata": {
        "id": "90G6Q-PVSElB"
      },
      "source": [
        "#@title ## Параметры Star1 \n",
        "\n",
        "DATA_PATH = \"/content/drive/MyDrive/Colab Notebooks/data/\" #@param {type:\"string\"}\n",
        " \n",
        "N_VAR = 6       #@param {type:\"number\"}\n",
        "TRAIN_PR = 0.8  #@param {type:\"slider\", min:0, max:1, step:0.05}"
      ],
      "execution_count": 43,
      "outputs": []
    },
    {
      "cell_type": "code",
      "metadata": {
        "id": "xbtWQmlZSMgU"
      },
      "source": [
        "dtype = np.double"
      ],
      "execution_count": 44,
      "outputs": []
    },
    {
      "cell_type": "code",
      "metadata": {
        "id": "tqYuAr9_SNUD"
      },
      "source": [
        "path_end = str(N_VAR).zfill(4) + \".csv\"\n",
        "train_features = pd.read_csv(DATA_PATH + \"lab1/train_features_\" + path_end, header=None, squeeze=True, dtype=dtype)\n",
        "train_labels   = pd.read_csv(DATA_PATH + \"lab1/train_labels_\"   + path_end, header=None, squeeze=False, dtype=dtype)\n",
        "test_features  = pd.read_csv(DATA_PATH + \"lab1/test_features_\"  + path_end, header=None, squeeze=True, dtype=dtype)\n",
        "\n",
        "test_labels    = pd.read_csv(DATA_PATH + \"lab1.csv\", header=None, squeeze=True, dtype=dtype)\n",
        "\n",
        "hack_features = pd.read_csv(DATA_PATH + \"hack_features.csv\", header=None, squeeze=True, dtype=dtype)\n",
        "hack_labels   = pd.read_csv(DATA_PATH + \"hack_labels.csv\", header=None, squeeze=False, dtype=dtype)"
      ],
      "execution_count": 45,
      "outputs": []
    },
    {
      "cell_type": "code",
      "metadata": {
        "id": "dJlL9lBySddg"
      },
      "source": [
        "hack_features = pd.DataFrame({\n",
        "    \"x1\": hack_features\n",
        "})\n",
        "\n",
        "train_features = pd.DataFrame({\n",
        "    \"x1\": train_features\n",
        "    })"
      ],
      "execution_count": 46,
      "outputs": []
    },
    {
      "cell_type": "code",
      "metadata": {
        "id": "6FybdJPRSg1c"
      },
      "source": [
        "# Numpy\n",
        " \n",
        "train_features_np = train_features.to_numpy() \n",
        "train_labels_np = train_labels.to_numpy()\n",
        " \n",
        "test_features_np = test_features.to_numpy()\n",
        "\n",
        "hack_features_np = hack_features.to_numpy()\n",
        "hack_labels_np = hack_labels.to_numpy()"
      ],
      "execution_count": 55,
      "outputs": []
    },
    {
      "cell_type": "code",
      "metadata": {
        "cellView": "form",
        "id": "7qSNl_hGSkEQ"
      },
      "source": [
        "#@title Тренировка сети: параметры\n",
        " \n",
        "learning_rate = 0.000001 #@param {type:\"number\"}\n",
        "epochs =  6000#@param {type:\"integer\"}\n",
        "score = 'mse' #@param [\"mse\", \"log\"]\n",
        "calc_type = 'cpu' #@param [\"cpu\", \"gpu\"]\n",
        "#@markdown ---\n",
        "display_loss=False #@param {type:\"boolean\"}\n",
        "initialise=True #@param {type:\"boolean\"}\n",
        "#@markdown ---\n",
        "adv_train = False #@param {type:\"boolean\"}\n",
        "adv_epochs = 1000 #@param {type:\"integer\"}"
      ],
      "execution_count": 49,
      "outputs": []
    },
    {
      "cell_type": "code",
      "metadata": {
        "id": "FDopf9VKSo_a"
      },
      "source": [
        "from IPython.display import clear_output\n",
        "\n",
        "def fit_nn(NNet: FFSNNetwork, \n",
        "           n_rounds: int,\n",
        "           target=None, \n",
        "           verbose=True):\n",
        "    success = 0\n",
        "    wb_list = []\n",
        "\n",
        "    for t in range(n_rounds):\n",
        "        if not verbose:\n",
        "            print(str(t) + \"/\" + str(n_rounds))\n",
        "            \n",
        "        try:   # hack_features_np, hack_labels_np\n",
        "            NNet.fit(train_features_np, train_labels_np, \\\n",
        "                learning_rate=learning_rate, epochs=epochs, \\\n",
        "                display_loss=display_loss, calc_type=calc_type, \\\n",
        "                adv_train=adv_train, adv_epochs=adv_epochs, score=score, initialise=initialise)\n",
        "            \n",
        "        except Exception as e:\n",
        "            if verbose:\n",
        "                print(str(t) + \": fail; \" + str(e))\n",
        "        else:\n",
        "            success += 1\n",
        "            r2 = r2_score(hack_labels.to_numpy(), NNet.predict(hack_features.to_numpy()))\n",
        "            wb_list.append({'score': r2, 'wb': NNet.get_wb()})\n",
        "            if verbose:\n",
        "                print(str(t) + \": success (\" + str(r2) + \")\")\n",
        "            if (target != None):\n",
        "                if (r2 >= target):\n",
        "                    break\n",
        "\n",
        "        finally:\n",
        "            if not verbose:\n",
        "                clear_output(wait=True)\n",
        "    \n",
        "    print(\"Succes ratio: \" + str(success / n_rounds))\n",
        "    return wb_list"
      ],
      "execution_count": 50,
      "outputs": []
    },
    {
      "cell_type": "code",
      "metadata": {
        "colab": {
          "base_uri": "https://localhost:8080/"
        },
        "id": "grerQdZqXVr6",
        "outputId": "f99d0064-d5b6-4426-b0ee-b93a1c8f60cb"
      },
      "source": [
        "import math\n",
        "m = 1\n",
        "n_object = len(train_features_np)\n",
        "hid_nodes1 = math.sqrt((m + 2)*n_object) + 2*math.sqrt(n_object / (m + 2))\n",
        "hid_nodes2 = m*math.sqrt(n_object / (m + 2))\n",
        "\n",
        "print(\"First layer:\" + str(math.ceil(hid_nodes1)))\n",
        "print(\"Second layer:\" + str(math.ceil(hid_nodes2)))"
      ],
      "execution_count": 51,
      "outputs": [
        {
          "output_type": "stream",
          "text": [
            "First layer:25\n",
            "Second layer:5\n"
          ],
          "name": "stdout"
        }
      ]
    },
    {
      "cell_type": "code",
      "metadata": {
        "id": "bIL0hgt2XYVW"
      },
      "source": [
        "hidden_sizes = [1,19,19]\n",
        "NNet = FFSNNetwork(1, 1, hidden_sizes=hidden_sizes)"
      ],
      "execution_count": 52,
      "outputs": []
    },
    {
      "cell_type": "code",
      "metadata": {
        "id": "n1Py3FelXa0z"
      },
      "source": [
        "#NNet.read_weight_bias(DATA_PATH + 'FFSNN_wb.pcl')"
      ],
      "execution_count": 53,
      "outputs": []
    },
    {
      "cell_type": "code",
      "metadata": {
        "id": "R9BYNidLXdhc"
      },
      "source": [
        "wb_list = fit_nn(NNet, n_rounds=50, target=0.95, verbose=False)"
      ],
      "execution_count": null,
      "outputs": []
    },
    {
      "cell_type": "code",
      "metadata": {
        "id": "u8QT9x0bXeWi"
      },
      "source": [
        "len_b = len(wb_list)\n",
        "wb_list = [item for item in wb_list if item['score'] >= 0.8]\n",
        "len_a = len(wb_list)\n",
        "print(\"wb_list: \" + str(len_b) + \"->\" + str(len_a))"
      ],
      "execution_count": null,
      "outputs": []
    },
    {
      "cell_type": "code",
      "metadata": {
        "id": "PGkcJ1WnXiPG"
      },
      "source": [
        "wb_list.sort(reverse=True, key=lambda d: d['score'])\n",
        "wb_plot = [d['score'] for d in wb_list]\n",
        "plt.plot(wb_plot)"
      ],
      "execution_count": null,
      "outputs": []
    },
    {
      "cell_type": "code",
      "metadata": {
        "id": "zYPBaWb7Xky0"
      },
      "source": [
        "wb_item = wb_list[0]\n",
        "NNet.set_wb(w=wb_item['wb']['w'], b=wb_item['wb']['b'])\n",
        "\n",
        "NNet.write_weight_bias(DATA_PATH + 'FFSNN_wb.pcl')"
      ],
      "execution_count": null,
      "outputs": []
    },
    {
      "cell_type": "code",
      "metadata": {
        "id": "UyXHQO2iXnXe"
      },
      "source": [
        "#NNet.read_weight_bias(DATA_PATH + 'FFSNN_wb_hard.pcl')"
      ],
      "execution_count": null,
      "outputs": []
    },
    {
      "cell_type": "code",
      "metadata": {
        "id": "kMuklhvLXqpC"
      },
      "source": [
        "#NNet.set_wb(w=wb_item['wb']['w'], b=wb_item['wb']['b'])\n",
        "\n",
        "# hack_features.to_numpy(), hack_labels.to_numpy()\n",
        "# train_features_np, train_labels_np\n",
        "NNet.fit(hack_features.to_numpy(), hack_labels.to_numpy(), \\\n",
        "            learning_rate=learning_rate, epochs=10000, \\\n",
        "            display_loss=display_loss, calc_type=calc_type, \\\n",
        "            adv_train=adv_train, adv_epochs=adv_epochs, score=score, initialise=False)\n",
        "\n"
      ],
      "execution_count": null,
      "outputs": []
    },
    {
      "cell_type": "code",
      "metadata": {
        "id": "goW5VzLQXtQ9"
      },
      "source": [
        "#NNet.write_weight_bias(DATA_PATH + 'FFSNN_wb_hard.pcl')"
      ],
      "execution_count": null,
      "outputs": []
    },
    {
      "cell_type": "code",
      "metadata": {
        "id": "uqcjLENdXzio"
      },
      "source": [
        "NNet_pred = NNet.predict(train_features_np)\n",
        "NNet_pred2 = NNet.predict(test_features_np)\n",
        "NNet_pred3 = NNet.predict(hack_features.to_numpy())\n",
        "print(r2_score(train_labels_np, NNet_pred))\n",
        "print(r2_score(test_labels.to_numpy(), NNet_pred2))\n",
        "print(r2_score(hack_labels.to_numpy(), NNet_pred3))"
      ],
      "execution_count": null,
      "outputs": []
    },
    {
      "cell_type": "code",
      "metadata": {
        "id": "HSbwvdzwX1qf"
      },
      "source": [
        "#pd.Series(NNet_pred2).to_csv(DATA_PATH + \"lab1_star.csv\", header=None, index=False)"
      ],
      "execution_count": null,
      "outputs": []
    },
    {
      "cell_type": "code",
      "metadata": {
        "id": "y5jMmh7rX4Xq"
      },
      "source": [
        "fig, ax = plt.subplots()\n",
        "ax.scatter(train_features_np, NNet_pred, c='r', s=5)\n",
        "ax.scatter(train_features_np, train_labels_np, c='g', s=5)\n",
        "fig.suptitle(\"Train data\")\n",
        " \n",
        "fig2, ax2 = plt.subplots()\n",
        "ax2.scatter(test_features_np, NNet_pred2, c='r', s=5)\n",
        "ax2.scatter(test_features_np, test_labels.to_numpy(), c='b', s=5)\n",
        "fig2.suptitle(\"Test data\")\n",
        "\n",
        "fig3, ax3 = plt.subplots()\n",
        "ax3.scatter(hack_features.to_numpy(), NNet_pred3, c='r', s=5)\n",
        "ax3.scatter(hack_features.to_numpy(), hack_labels.to_numpy(), c='b', s=5)\n",
        "fig3.suptitle(\"Hack data\")\n",
        "\n",
        "plt.show()"
      ],
      "execution_count": null,
      "outputs": []
    }
  ]
}