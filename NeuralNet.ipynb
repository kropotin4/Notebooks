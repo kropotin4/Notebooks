{
  "nbformat": 4,
  "nbformat_minor": 0,
  "metadata": {
    "colab": {
      "name": "NeuralNet.ipynb",
      "provenance": [],
      "collapsed_sections": [],
      "toc_visible": true,
      "mount_file_id": "1SifN7FERY0K8FT_BLkJtE7sOMc-DVl95",
      "authorship_tag": "ABX9TyOmNks9sJ/OugPsJfAhPVvx",
      "include_colab_link": true
    },
    "kernelspec": {
      "display_name": "Python 3",
      "name": "python3"
    },
    "language_info": {
      "name": "python"
    },
    "widgets": {
      "application/vnd.jupyter.widget-state+json": {
        "ca7852ad69a944e78cc66680719f74b5": {
          "model_module": "@jupyter-widgets/controls",
          "model_name": "HBoxModel",
          "state": {
            "_view_name": "HBoxView",
            "_dom_classes": [],
            "_model_name": "HBoxModel",
            "_view_module": "@jupyter-widgets/controls",
            "_model_module_version": "1.5.0",
            "_view_count": null,
            "_view_module_version": "1.5.0",
            "box_style": "",
            "layout": "IPY_MODEL_2a891e739b3a4f79a138a4d4c9490c58",
            "_model_module": "@jupyter-widgets/controls",
            "children": [
              "IPY_MODEL_0e7b655d5de147b790bc627af9b72eaf",
              "IPY_MODEL_2a07d3a4b6064cdb995dd465c1e527f7"
            ]
          }
        },
        "2a891e739b3a4f79a138a4d4c9490c58": {
          "model_module": "@jupyter-widgets/base",
          "model_name": "LayoutModel",
          "state": {
            "_view_name": "LayoutView",
            "grid_template_rows": null,
            "right": null,
            "justify_content": null,
            "_view_module": "@jupyter-widgets/base",
            "overflow": null,
            "_model_module_version": "1.2.0",
            "_view_count": null,
            "flex_flow": null,
            "width": null,
            "min_width": null,
            "border": null,
            "align_items": null,
            "bottom": null,
            "_model_module": "@jupyter-widgets/base",
            "top": null,
            "grid_column": null,
            "overflow_y": null,
            "overflow_x": null,
            "grid_auto_flow": null,
            "grid_area": null,
            "grid_template_columns": null,
            "flex": null,
            "_model_name": "LayoutModel",
            "justify_items": null,
            "grid_row": null,
            "max_height": null,
            "align_content": null,
            "visibility": null,
            "align_self": null,
            "height": null,
            "min_height": null,
            "padding": null,
            "grid_auto_rows": null,
            "grid_gap": null,
            "max_width": null,
            "order": null,
            "_view_module_version": "1.2.0",
            "grid_template_areas": null,
            "object_position": null,
            "object_fit": null,
            "grid_auto_columns": null,
            "margin": null,
            "display": null,
            "left": null
          }
        },
        "0e7b655d5de147b790bc627af9b72eaf": {
          "model_module": "@jupyter-widgets/controls",
          "model_name": "FloatProgressModel",
          "state": {
            "_view_name": "ProgressView",
            "style": "IPY_MODEL_0595a7b3fc32447a868bf69535a41c2f",
            "_dom_classes": [],
            "description": "100%",
            "_model_name": "FloatProgressModel",
            "bar_style": "success",
            "max": 250,
            "_view_module": "@jupyter-widgets/controls",
            "_model_module_version": "1.5.0",
            "value": 250,
            "_view_count": null,
            "_view_module_version": "1.5.0",
            "orientation": "horizontal",
            "min": 0,
            "description_tooltip": null,
            "_model_module": "@jupyter-widgets/controls",
            "layout": "IPY_MODEL_6a091dd9398b417ab89c1603a6d9ad3c"
          }
        },
        "2a07d3a4b6064cdb995dd465c1e527f7": {
          "model_module": "@jupyter-widgets/controls",
          "model_name": "HTMLModel",
          "state": {
            "_view_name": "HTMLView",
            "style": "IPY_MODEL_b89e8e987ef94b56b1d273aa909a454f",
            "_dom_classes": [],
            "description": "",
            "_model_name": "HTMLModel",
            "placeholder": "​",
            "_view_module": "@jupyter-widgets/controls",
            "_model_module_version": "1.5.0",
            "value": " 250/250 [00:13&lt;00:00, 18.39epoch/s]",
            "_view_count": null,
            "_view_module_version": "1.5.0",
            "description_tooltip": null,
            "_model_module": "@jupyter-widgets/controls",
            "layout": "IPY_MODEL_114e777f8d2247a9a24ce2e24dd69d73"
          }
        },
        "0595a7b3fc32447a868bf69535a41c2f": {
          "model_module": "@jupyter-widgets/controls",
          "model_name": "ProgressStyleModel",
          "state": {
            "_view_name": "StyleView",
            "_model_name": "ProgressStyleModel",
            "description_width": "initial",
            "_view_module": "@jupyter-widgets/base",
            "_model_module_version": "1.5.0",
            "_view_count": null,
            "_view_module_version": "1.2.0",
            "bar_color": null,
            "_model_module": "@jupyter-widgets/controls"
          }
        },
        "6a091dd9398b417ab89c1603a6d9ad3c": {
          "model_module": "@jupyter-widgets/base",
          "model_name": "LayoutModel",
          "state": {
            "_view_name": "LayoutView",
            "grid_template_rows": null,
            "right": null,
            "justify_content": null,
            "_view_module": "@jupyter-widgets/base",
            "overflow": null,
            "_model_module_version": "1.2.0",
            "_view_count": null,
            "flex_flow": null,
            "width": null,
            "min_width": null,
            "border": null,
            "align_items": null,
            "bottom": null,
            "_model_module": "@jupyter-widgets/base",
            "top": null,
            "grid_column": null,
            "overflow_y": null,
            "overflow_x": null,
            "grid_auto_flow": null,
            "grid_area": null,
            "grid_template_columns": null,
            "flex": null,
            "_model_name": "LayoutModel",
            "justify_items": null,
            "grid_row": null,
            "max_height": null,
            "align_content": null,
            "visibility": null,
            "align_self": null,
            "height": null,
            "min_height": null,
            "padding": null,
            "grid_auto_rows": null,
            "grid_gap": null,
            "max_width": null,
            "order": null,
            "_view_module_version": "1.2.0",
            "grid_template_areas": null,
            "object_position": null,
            "object_fit": null,
            "grid_auto_columns": null,
            "margin": null,
            "display": null,
            "left": null
          }
        },
        "b89e8e987ef94b56b1d273aa909a454f": {
          "model_module": "@jupyter-widgets/controls",
          "model_name": "DescriptionStyleModel",
          "state": {
            "_view_name": "StyleView",
            "_model_name": "DescriptionStyleModel",
            "description_width": "",
            "_view_module": "@jupyter-widgets/base",
            "_model_module_version": "1.5.0",
            "_view_count": null,
            "_view_module_version": "1.2.0",
            "_model_module": "@jupyter-widgets/controls"
          }
        },
        "114e777f8d2247a9a24ce2e24dd69d73": {
          "model_module": "@jupyter-widgets/base",
          "model_name": "LayoutModel",
          "state": {
            "_view_name": "LayoutView",
            "grid_template_rows": null,
            "right": null,
            "justify_content": null,
            "_view_module": "@jupyter-widgets/base",
            "overflow": null,
            "_model_module_version": "1.2.0",
            "_view_count": null,
            "flex_flow": null,
            "width": null,
            "min_width": null,
            "border": null,
            "align_items": null,
            "bottom": null,
            "_model_module": "@jupyter-widgets/base",
            "top": null,
            "grid_column": null,
            "overflow_y": null,
            "overflow_x": null,
            "grid_auto_flow": null,
            "grid_area": null,
            "grid_template_columns": null,
            "flex": null,
            "_model_name": "LayoutModel",
            "justify_items": null,
            "grid_row": null,
            "max_height": null,
            "align_content": null,
            "visibility": null,
            "align_self": null,
            "height": null,
            "min_height": null,
            "padding": null,
            "grid_auto_rows": null,
            "grid_gap": null,
            "max_width": null,
            "order": null,
            "_view_module_version": "1.2.0",
            "grid_template_areas": null,
            "object_position": null,
            "object_fit": null,
            "grid_auto_columns": null,
            "margin": null,
            "display": null,
            "left": null
          }
        }
      }
    }
  },
  "cells": [
    {
      "cell_type": "markdown",
      "metadata": {
        "id": "view-in-github",
        "colab_type": "text"
      },
      "source": [
        "<a href=\"https://colab.research.google.com/github/kropotin4/Notebooks/blob/master/NeuralNet.ipynb\" target=\"_parent\"><img src=\"https://colab.research.google.com/assets/colab-badge.svg\" alt=\"Open In Colab\"/></a>"
      ]
    },
    {
      "cell_type": "markdown",
      "metadata": {
        "id": "Ch3uMDysZpMl"
      },
      "source": [
        "# Нейронная сеть"
      ]
    },
    {
      "cell_type": "code",
      "metadata": {
        "id": "MTR2V42BXDj2",
        "cellView": "form"
      },
      "source": [
        "#@title\n",
        "import numpy as np\n",
        "import matplotlib.pyplot as plt\n",
        "from sklearn.metrics import mean_squared_error, log_loss\n",
        "from sklearn.utils import shuffle\n",
        "from sklearn.model_selection import train_test_split\n",
        "from tqdm import tqdm\n",
        "from tqdm.notebook import tqdm_notebook\n",
        "import pickle\n",
        "from numba import njit\n",
        "\n",
        "%matplotlib inline"
      ],
      "execution_count": 27,
      "outputs": []
    },
    {
      "cell_type": "code",
      "metadata": {
        "id": "Y5iNP9gvX_TZ"
      },
      "source": [
        "class FFSNNetwork():\n",
        " \n",
        "    def init_WB(self):\n",
        "        \"\"\" Random init Weight and Bias\"\"\"\n",
        "        for i in range(self.nh + 1):\n",
        "            self.W[i + 1] = np.random.randn(self.sizes[i], self.sizes[i + 1])\\\n",
        "                            * np.sqrt(2 / (self.sizes[i]))  # Correct for min NaN collapse\n",
        "            self.B[i + 1] = np.zeros((1, self.sizes[i + 1]))\n",
        " \n",
        "    def write_weight_bias(self, filepath):\n",
        "        with open(filepath + 'FFSNN_weight.pcl', 'wb') as pfile:\n",
        "            pickle.dump(self.W, pfile)\n",
        "        with open(filepath + 'FFSNN_bias.pcl', 'wb') as pfile:\n",
        "            pickle.dump(self.B, pfile)\n",
        " \n",
        "    def read_weight_bias(self, filepath):\n",
        "        with open(filepath + 'FFSNN_weight.pcl', 'rb') as pfile:\n",
        "            self.W = pickle.load(pfile)\n",
        "        with open(filepath + 'FFSNN_bias.pcl', 'rb') as pfile:\n",
        "            self.B = pickle.load(pfile)\n",
        " \n",
        "    def __init__(self, n_inputs, n_outputs, hidden_sizes=[2]):\n",
        "        # Init function\n",
        "        # n_inputs - Number of inputs going into the network.\n",
        "        # n_outputs - Number of neurons in last layer: 1 - regression, else - classification\n",
        "        # hidden_sizes - Expects a list of integers, represents the number of neurons present in the hidden layer.\n",
        " \n",
        "        # intialize the inputs\n",
        "        self.nx = n_inputs\n",
        "        self.ny = n_outputs\n",
        "        self.nh = len(hidden_sizes)\n",
        "        self.sizes = [self.nx] + hidden_sizes + [self.ny]\n",
        " \n",
        "        self.W = {}\n",
        "        self.B = {}\n",
        "        self.init_WB()\n",
        " \n",
        "    @staticmethod\n",
        "    @njit\n",
        "    def h(x):\n",
        "        \"\"\" Activation function \"\"\"\n",
        "        #return x / (1.0 + np.exp(-x)) # Swish\n",
        "        return np.where(x > 0, x, 0.01 * x) # Lucky RuLU\n",
        "        #return x * (x > 0) # RuLu\n",
        "        #return 1.0 / (1.0 + np.exp(-x)) # sigmoid\n",
        " \n",
        "    @staticmethod\n",
        "    @njit\n",
        "    def grad_h(x):\n",
        "        \"\"\" Derivative activation function \"\"\"\n",
        "        #s = x / (1.0 + np.exp(-x))\n",
        "        #return s + (1.0 / (1.0 + np.exp(-x))) * (1 - s)\n",
        "        return np.where(x > 0, 1, 0.01) # Lucky RuLU (require A)\n",
        "        #return 1. * (x > 0) # RuLu\n",
        "        #return x * (1 - x) # sigmoid (require H)\n",
        " \n",
        "    @staticmethod\n",
        "    @njit\n",
        "    def softmax(x):\n",
        "        exps = np.exp(x)\n",
        "        return exps / np.sum(exps)\n",
        " \n",
        " \n",
        "    def forward_pass(self, x):\n",
        "        self.A = {}\n",
        "        self.H = {}\n",
        "        self.A[0] = x.reshape(1, -1)\n",
        "        self.H[0] = x.reshape(1, -1)\n",
        "        for i in range(self.nh):\n",
        "            self.A[i + 1] = np.matmul(self.H[i], self.W[i + 1]) + self.B[i + 1]\n",
        "            self.H[i + 1] = self.h(self.A[i + 1])\n",
        " \n",
        "        if self.ny == 1: # Regression\n",
        "            self.A[self.nh + 1] = np.matmul(self.H[self.nh], self.W[self.nh + 1]) + self.B[self.nh + 1]\n",
        "            self.H[self.nh + 1] = self.A[self.nh + 1] # self.h(self.A[self.nh + 1])\n",
        "        else: # Classification\n",
        "            self.A[self.nh + 1] = np.matmul(self.H[self.nh], self.W[self.nh + 1]) + self.B[self.nh + 1]\n",
        "            self.H[self.nh + 1] = self.softmax(self.A[self.nh + 1])\n",
        " \n",
        "        return self.H[self.nh + 1]\n",
        " \n",
        "    def grad(self, x, y):\n",
        "        self.forward_pass(x)\n",
        "        self.dW = {}\n",
        "        self.dB = {}\n",
        "        self.dH = {}\n",
        "        self.dA = {}\n",
        "        L = self.nh + 1\n",
        "        self.dA[L] = (self.H[L] - y)\n",
        "        for k in range(L, 1, -1):\n",
        "            self.dW[k] = np.matmul(self.H[k - 1].T, self.dA[k])\n",
        "            self.dB[k] = self.dA[k]\n",
        "            self.dH[k - 1] = np.matmul(self.dA[k], self.W[k].T)\n",
        "            self.dA[k - 1] = np.multiply(self.dH[k - 1], self.grad_h(self.A[k - 1])) # H[k-1] to A[k-1]\n",
        "        # First layer (dH[0] and dA[0] - useless)\n",
        "        self.dW[1] = np.matmul(self.H[0].T, self.dA[1])\n",
        "        self.dB[1] = self.dA[1]\n",
        " \n",
        "    def fit(self, features, labels, epochs=1, learning_rate=1, initialise=True, display_loss=False,\n",
        "            adv_train=False, adv_epochs=100, score='mse'):\n",
        " \n",
        "        # initialise w, b\n",
        "        if initialise:\n",
        "            self.init_WB()\n",
        " \n",
        "        if display_loss:\n",
        "            X_test = features\n",
        "            Y_test = labels\n",
        "            loss = []\n",
        " \n",
        "        shfk_cur = 1\n",
        "        for e in tqdm_notebook(range(epochs), total=epochs, unit=\"epoch\"):\n",
        "            shfk_cur += 1\n",
        "            if (adv_train and (shfk_cur == adv_epochs or e == 1)):\n",
        "                shfk_cur = 1\n",
        "                features_sh, labels_sh = shuffle(features, labels) # Shuffle data\n",
        "                X, X_test, Y, Y_test = train_test_split(features_sh, labels_sh, test_size=0.1) # Split 90% data to train\n",
        "            else:\n",
        "                X = features\n",
        "                Y = labels\n",
        " \n",
        "            dW = {}\n",
        "            dB = {}\n",
        "            for i in range(self.nh + 1):\n",
        "                dW[i + 1] = np.zeros((self.sizes[i], self.sizes[i + 1]))\n",
        "                dB[i + 1] = np.zeros((1, self.sizes[i + 1]))\n",
        "            for x, y in zip(X, Y):\n",
        "                self.grad(x, y)\n",
        "                for i in range(self.nh + 1):\n",
        "                    dW[i + 1] += self.dW[i + 1]\n",
        "                    dB[i + 1] += self.dB[i + 1]\n",
        " \n",
        "            m = X.shape[1]\n",
        "            for i in range(self.nh + 1):\n",
        "                self.W[i + 1] -= learning_rate * dW[i + 1] / m\n",
        "                self.B[i + 1] -= learning_rate * dB[i + 1] / m\n",
        " \n",
        "            if display_loss:\n",
        "                Y_pred = self.predict(X_test)\n",
        "                if score == 'mse':\n",
        "                    loss.append(mean_squared_error(Y_pred, Y_test))\n",
        "                elif score == 'log':\n",
        "                    loss.append(log_loss(Y_pred, Y_test))\n",
        "                else:\n",
        "                    raise Exception(\"Available score: 'mse' or 'log'\")\n",
        " \n",
        "        if display_loss:\n",
        "            plt.plot(loss)\n",
        "            plt.xlabel('Epochs')\n",
        "            plt.ylabel('Mean Squared Error' if score == 'mse' else 'Cross Entropy Loss')\n",
        "            plt.show()\n",
        " \n",
        "    def predict(self, X):\n",
        "        Y_pred = []\n",
        "        for x in X:\n",
        "            y_pred = self.forward_pass(x)\n",
        "            Y_pred.append(y_pred)\n",
        "        return np.array(Y_pred).squeeze()"
      ],
      "execution_count": 28,
      "outputs": []
    },
    {
      "cell_type": "markdown",
      "metadata": {
        "id": "tgCdBEA1Zw3F"
      },
      "source": [
        "# Star 1"
      ]
    },
    {
      "cell_type": "code",
      "metadata": {
        "id": "C5zIvNzNibfs"
      },
      "source": [
        "import pandas as pd\n",
        "from sklearn.model_selection import train_test_split\n",
        "from sklearn.metrics import r2_score"
      ],
      "execution_count": 29,
      "outputs": []
    },
    {
      "cell_type": "code",
      "metadata": {
        "cellView": "form",
        "id": "UNxKCkpRLKyr"
      },
      "source": [
        "#@title ## Параметры Star1 \n",
        "\n",
        "DATA_PATH = \"drive/MyDrive/Colab Notebooks/data/\" #@param {type:\"string\"}\n",
        " \n",
        "N_VAR = 6       #@param {type:\"number\"}\n",
        "TRAIN_PR = 0.8  #@param {type:\"slider\", min:0, max:1, step:0.05}"
      ],
      "execution_count": 30,
      "outputs": []
    },
    {
      "cell_type": "code",
      "metadata": {
        "id": "BovMZOnHZXRS"
      },
      "source": [
        "path_end = str(N_VAR).zfill(4) + \".csv\"\n",
        "train_features = pd.read_csv(DATA_PATH + \"lab1/train_features_\" + path_end, header=None, squeeze=True)\n",
        "train_labels   = pd.read_csv(DATA_PATH + \"lab1/train_labels_\"   + path_end, header=None, squeeze=True)\n",
        "test_features  = pd.read_csv(DATA_PATH + \"lab1/test_features_\"  + path_end, header=None, squeeze=True)\n",
        "\n",
        "test_labels    = pd.read_csv(DATA_PATH + \"lab1.csv\", header=None, squeeze=True)\n",
        "\n",
        "hack_features = pd.read_csv(DATA_PATH + \"hack_features.csv\", header=None, squeeze=True)\n",
        "hack_labels   = pd.read_csv(DATA_PATH + \"hack_labels.csv\", header=None, squeeze=True)"
      ],
      "execution_count": 31,
      "outputs": []
    },
    {
      "cell_type": "code",
      "metadata": {
        "id": "DnII_7kRku0K"
      },
      "source": [
        "hack_features = pd.DataFrame({\n",
        "    \"x1\": hack_features\n",
        "})\n",
        "\n",
        "train_features = pd.DataFrame({\n",
        "    \"x1\": train_features\n",
        "    })"
      ],
      "execution_count": 32,
      "outputs": []
    },
    {
      "cell_type": "code",
      "metadata": {
        "id": "oYnqQkRiZ4LI"
      },
      "source": [
        "# Split train_features/train_labels to 2 part (first - train, second - check)\n",
        "train_features1, train_labels1, train_features2, train_labels2 \\\n",
        "    = train_test_split(train_features, train_labels, train_size=TRAIN_PR)\n",
        " \n",
        " \n",
        "# Numpy\n",
        " \n",
        "train_features_np = train_features.to_numpy()\n",
        "train_features1_np = train_features1.to_numpy()\n",
        "train_features2_np = train_features2.to_numpy()\n",
        " \n",
        "train_labels_np = train_labels.to_numpy()\n",
        "train_labels1_np = train_labels1.to_numpy()\n",
        "train_labels2_np = train_labels2.to_numpy()\n",
        " \n",
        "test_features_np = test_features.to_numpy()"
      ],
      "execution_count": 33,
      "outputs": []
    },
    {
      "cell_type": "code",
      "metadata": {
        "cellView": "form",
        "id": "jaQyb7njODJW"
      },
      "source": [
        "#@title Тренировка сети: параметры\n",
        "\n",
        "learning_rate = 0.00001 #@param {type:\"number\"}\n",
        "epochs = 250            #@param {type:\"integer\"}\n",
        "score = 'mse'           #@param [\"mse\", \"log\"]\n",
        "#@markdown ---\n",
        "display_loss=False      #@param {type:\"boolean\"}\n",
        "initialise=False        #@param {type:\"boolean\"}\n",
        "#@markdown ---\n",
        "adv_train = False       #@param {type:\"boolean\"}\n",
        "adv_epochs = 1000       #@param {type:\"integer\"}"
      ],
      "execution_count": 34,
      "outputs": []
    },
    {
      "cell_type": "markdown",
      "metadata": {
        "id": "CxamggCuRVyM"
      },
      "source": [
        "## Тренировка сети"
      ]
    },
    {
      "cell_type": "code",
      "metadata": {
        "colab": {
          "base_uri": "https://localhost:8080/",
          "height": 100,
          "referenced_widgets": [
            "ca7852ad69a944e78cc66680719f74b5",
            "2a891e739b3a4f79a138a4d4c9490c58",
            "0e7b655d5de147b790bc627af9b72eaf",
            "2a07d3a4b6064cdb995dd465c1e527f7",
            "0595a7b3fc32447a868bf69535a41c2f",
            "6a091dd9398b417ab89c1603a6d9ad3c",
            "b89e8e987ef94b56b1d273aa909a454f",
            "114e777f8d2247a9a24ce2e24dd69d73"
          ]
        },
        "id": "OsTqXyemjqOJ",
        "outputId": "126857bf-7ee6-48c7-87a3-986d7120a168"
      },
      "source": [
        "NNet = FFSNNetwork(1, 1, hidden_sizes=[8,8,8])\n",
        " \n",
        "NNet.read_weight_bias(DATA_PATH)\n",
        "NNet.fit(hack_features.to_numpy(), hack_labels.to_numpy(), learning_rate=learning_rate, epochs=epochs, display_loss=display_loss,\n",
        "          adv_train=adv_train, adv_epochs=adv_epochs, score=score, initialise=initialise)\n",
        "#NNet.write_weight_bias(DATA_PATH)\n",
        " \n",
        " \n",
        "#save_result(\"lab1_star.csv\", NNet2.predict(test_features_np))\n",
        " \n",
        "NNet_pred = NNet.predict(train_features_np)\n",
        "NNet_pred2 = NNet.predict(test_features_np)\n",
        "print(r2_score(train_labels_np, NNet_pred))\n",
        "print(r2_score(test_labels.to_numpy(), NNet_pred2))"
      ],
      "execution_count": 35,
      "outputs": [
        {
          "output_type": "display_data",
          "data": {
            "application/vnd.jupyter.widget-view+json": {
              "model_id": "ca7852ad69a944e78cc66680719f74b5",
              "version_minor": 0,
              "version_major": 2
            },
            "text/plain": [
              "HBox(children=(FloatProgress(value=0.0, max=250.0), HTML(value='')))"
            ]
          },
          "metadata": {
            "tags": []
          }
        },
        {
          "output_type": "stream",
          "text": [
            "\n",
            "0.9823623543926081\n",
            "0.9714485034381792\n"
          ],
          "name": "stdout"
        }
      ]
    },
    {
      "cell_type": "markdown",
      "metadata": {
        "id": "tLrVnXOERr37"
      },
      "source": [
        "## Графики"
      ]
    },
    {
      "cell_type": "code",
      "metadata": {
        "colab": {
          "base_uri": "https://localhost:8080/",
          "height": 513
        },
        "id": "gKHtzXnxjkvh",
        "outputId": "c4efc2d6-da2d-4359-df89-7bb4204cfe85"
      },
      "source": [
        "fig, ax = plt.subplots()\n",
        "ax.scatter(train_features_np, NNet_pred, c='r', s=5)\n",
        "ax.scatter(train_features_np, train_labels_np, c='g', s=5)\n",
        " \n",
        "fig2, ax2 = plt.subplots()\n",
        "ax2.scatter(test_features_np, NNet_pred2, c='r', s=5)\n",
        "ax2.scatter(test_features_np, test_labels.to_numpy(), c='b', s=5)\n",
        " \n",
        "plt.show()"
      ],
      "execution_count": 36,
      "outputs": [
        {
          "output_type": "display_data",
          "data": {
            "image/png": "[encoded data removed]",
            "text/plain": [
              "<Figure size 432x288 with 1 Axes>"
            ]
          },
          "metadata": {
            "tags": [],
            "needs_background": "light"
          }
        },
        {
          "output_type": "display_data",
          "data": {
            "image/png": "[encoded data removed]",
            "text/plain": [
              "<Figure size 432x288 with 1 Axes>"
            ]
          },
          "metadata": {
            "tags": [],
            "needs_background": "light"
          }
        }
      ]
    }
  ]
}